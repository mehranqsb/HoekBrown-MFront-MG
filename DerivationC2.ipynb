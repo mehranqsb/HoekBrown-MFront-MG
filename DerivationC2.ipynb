{
 "cells": [
  {
   "cell_type": "code",
   "execution_count": 11,
   "id": "dc7e0fd7-9540-47df-8856-6bcc49b1e8f0",
   "metadata": {},
   "outputs": [],
   "source": [
    "import sympy as sp\n",
    "from sympy import *\n",
    "from pytexit import py2tex\n",
    "\n",
    "I1 = sp.symbols(\"I1\")\n",
    "J2 = sp.symbols(\"J2\")\n",
    "a = sp.symbols(\"a\")\n",
    "m_b = sp.symbols(\"m_b\")\n",
    "sigma_ci = sp.symbols(\"sigma_ci\")\n",
    "lodet = sp.symbols(\"lodet\")\n",
    "s = sp.symbols(\"s\")\n",
    "A = sp.symbols(\"A\")\n",
    "B = sp.symbols(\"B\")\n",
    "C = sp.symbols(\"C\")\n",
    "p = sp.symbols(\"p\")\n",
    "lode = sp.symbols(\"lode\")\n",
    "epsilon = sp.symbols(\"epsilon\")\n",
    "theta = sp.symbols(\"theta\")"
   ]
  },
  {
   "cell_type": "markdown",
   "id": "65c6efc9",
   "metadata": {},
   "source": [
    "## $F^{\\text{org}}_{\\text{HB}}$"
   ]
  },
  {
   "cell_type": "code",
   "execution_count": 12,
   "id": "acb664d6-f69b-4982-83fc-ba742e8f8bff",
   "metadata": {},
   "outputs": [
    {
     "data": {
      "text/latex": [
       "$\\displaystyle \\frac{I_{1} m_{b} \\sigma_{ci}^{-1 + \\frac{1}{a}}}{3} + \\sqrt{J_{2}} m_{b} \\sigma_{ci}^{-1 + \\frac{1}{a}} \\left(- \\frac{\\sqrt{3} \\sin{\\left(lode \\right)}}{3} + \\cos{\\left(lode \\right)}\\right) - s \\sigma_{ci}^{\\frac{1}{a}} + \\left(2 \\sqrt{J_{2}} \\cos{\\left(lode \\right)}\\right)^{\\frac{1}{a}}$"
      ],
      "text/plain": [
       "I1*m_b*sigma_ci**(-1 + 1/a)/3 + sqrt(J2)*m_b*sigma_ci**(-1 + 1/a)*(-sqrt(3)*sin(lode)/3 + cos(lode)) - s*sigma_ci**(1/a) + (2*sqrt(J2)*cos(lode))**(1/a)"
      ]
     },
     "metadata": {},
     "output_type": "display_data"
    }
   ],
   "source": [
    "F_hBOrg = (\n",
    "    (2 * sp.sqrt(J2) * cos(lode)) ** (1 / a)\n",
    "    + m_b * sigma_ci ** (1 / a - 1) * sqrt(J2) * (cos(lode) - sin(lode) / sqrt(3))\n",
    "    + m_b * I1 / 3 * sigma_ci ** (1 / a - 1)\n",
    "    - s * sigma_ci ** (1 / a)\n",
    ")\n",
    "display(F_hBOrg)"
   ]
  },
  {
   "cell_type": "markdown",
   "id": "8704df19",
   "metadata": {},
   "source": [
    "## $\\cfrac{\\partial{F^{\\text{org}}_{\\text{HB}}}}{\\partial{J_2}}$"
   ]
  },
  {
   "cell_type": "code",
   "execution_count": 3,
   "id": "5e76a931-f086-474e-81fa-e529d387c50c",
   "metadata": {},
   "outputs": [
    {
     "data": {
      "text/latex": [
       "$\\displaystyle \\frac{\\left(2 \\sqrt{J_{2}} \\cos{\\left(lode \\right)}\\right)^{\\frac{1}{a}}}{2 J_{2} a} + \\frac{m_{b} \\sigma_{ci}^{-1 + \\frac{1}{a}} \\left(- \\frac{\\sqrt{3} \\sin{\\left(lode \\right)}}{3} + \\cos{\\left(lode \\right)}\\right)}{2 \\sqrt{J_{2}}}$"
      ],
      "text/plain": [
       "(2*sqrt(J2)*cos(lode))**(1/a)/(2*J2*a) + m_b*sigma_ci**(-1 + 1/a)*(-sqrt(3)*sin(lode)/3 + cos(lode))/(2*sqrt(J2))"
      ]
     },
     "metadata": {},
     "output_type": "display_data"
    }
   ],
   "source": [
    "dFHBO_dJ2 = sp.diff(F_hBOrg, J2)\n",
    "display(dFHBO_dJ2)\n"
   ]
  },
  {
   "cell_type": "markdown",
   "id": "031bfcff",
   "metadata": {},
   "source": [
    "## $\\cfrac{\\partial^2{F^{\\text{org}}_{\\text{HB}}}}{\\partial{J_2}^2}$"
   ]
  },
  {
   "cell_type": "code",
   "execution_count": 4,
   "id": "5dc51bdb-290d-49f6-8579-3de60f60f881",
   "metadata": {},
   "outputs": [
    {
     "data": {
      "text/latex": [
       "$\\displaystyle - \\frac{\\left(2 \\sqrt{J_{2}} \\cos{\\left(lode \\right)}\\right)^{\\frac{1}{a}}}{2 J_{2}^{2} a} + \\frac{\\left(2 \\sqrt{J_{2}} \\cos{\\left(lode \\right)}\\right)^{\\frac{1}{a}}}{4 J_{2}^{2} a^{2}} - \\frac{m_{b} \\sigma_{ci}^{-1 + \\frac{1}{a}} \\left(- \\frac{\\sqrt{3} \\sin{\\left(lode \\right)}}{3} + \\cos{\\left(lode \\right)}\\right)}{4 J_{2}^{\\frac{3}{2}}}$"
      ],
      "text/plain": [
       "-(2*sqrt(J2)*cos(lode))**(1/a)/(2*J2**2*a) + (2*sqrt(J2)*cos(lode))**(1/a)/(4*J2**2*a**2) - m_b*sigma_ci**(-1 + 1/a)*(-sqrt(3)*sin(lode)/3 + cos(lode))/(4*J2**(3/2))"
      ]
     },
     "metadata": {},
     "output_type": "display_data"
    }
   ],
   "source": [
    "dFHBO_ddJ2 = sp.diff(dFHBO_dJ2, J2)\n",
    "display(dFHBO_ddJ2)\n"
   ]
  },
  {
   "cell_type": "markdown",
   "id": "6922a162",
   "metadata": {},
   "source": [
    "## $\\cfrac{\\partial{F^{\\text{org}}_{\\text{HB}}}}{\\partial{\\theta}}$"
   ]
  },
  {
   "cell_type": "code",
   "execution_count": 5,
   "id": "05c9f757",
   "metadata": {},
   "outputs": [
    {
     "data": {
      "text/latex": [
       "$\\displaystyle \\sqrt{J_{2}} m_{b} \\sigma_{ci}^{-1 + \\frac{1}{a}} \\left(- \\sin{\\left(lode \\right)} - \\frac{\\sqrt{3} \\cos{\\left(lode \\right)}}{3}\\right) - \\frac{\\left(2 \\sqrt{J_{2}} \\cos{\\left(lode \\right)}\\right)^{\\frac{1}{a}} \\sin{\\left(lode \\right)}}{a \\cos{\\left(lode \\right)}}$"
      ],
      "text/plain": [
       "sqrt(J2)*m_b*sigma_ci**(-1 + 1/a)*(-sin(lode) - sqrt(3)*cos(lode)/3) - (2*sqrt(J2)*cos(lode))**(1/a)*sin(lode)/(a*cos(lode))"
      ]
     },
     "metadata": {},
     "output_type": "display_data"
    }
   ],
   "source": [
    "dFHBO_dlode = sp.diff(F_hBOrg, lode)\n",
    "display(dFHBO_dlode)\n"
   ]
  },
  {
   "cell_type": "markdown",
   "id": "85a3b2e7",
   "metadata": {},
   "source": [
    "## $\\cfrac{\\partial^2{F^{\\text{org}}_{\\text{HB}}}}{\\partial{\\theta}^2}$"
   ]
  },
  {
   "cell_type": "code",
   "execution_count": 6,
   "id": "ce07759b",
   "metadata": {},
   "outputs": [
    {
     "data": {
      "text/latex": [
       "$\\displaystyle \\sqrt{J_{2}} m_{b} \\sigma_{ci}^{-1 + \\frac{1}{a}} \\left(\\frac{\\sqrt{3} \\sin{\\left(lode \\right)}}{3} - \\cos{\\left(lode \\right)}\\right) - \\frac{\\left(2 \\sqrt{J_{2}} \\cos{\\left(lode \\right)}\\right)^{\\frac{1}{a}} \\sin^{2}{\\left(lode \\right)}}{a \\cos^{2}{\\left(lode \\right)}} - \\frac{\\left(2 \\sqrt{J_{2}} \\cos{\\left(lode \\right)}\\right)^{\\frac{1}{a}}}{a} + \\frac{\\left(2 \\sqrt{J_{2}} \\cos{\\left(lode \\right)}\\right)^{\\frac{1}{a}} \\sin^{2}{\\left(lode \\right)}}{a^{2} \\cos^{2}{\\left(lode \\right)}}$"
      ],
      "text/plain": [
       "sqrt(J2)*m_b*sigma_ci**(-1 + 1/a)*(sqrt(3)*sin(lode)/3 - cos(lode)) - (2*sqrt(J2)*cos(lode))**(1/a)*sin(lode)**2/(a*cos(lode)**2) - (2*sqrt(J2)*cos(lode))**(1/a)/a + (2*sqrt(J2)*cos(lode))**(1/a)*sin(lode)**2/(a**2*cos(lode)**2)"
      ]
     },
     "metadata": {},
     "output_type": "display_data"
    }
   ],
   "source": [
    "dFHBO_ddlode = sp.diff(dFHBO_dlode, lode)\n",
    "display(dFHBO_ddlode)\n"
   ]
  },
  {
   "cell_type": "markdown",
   "id": "d7548b37",
   "metadata": {},
   "source": [
    "## $\\cfrac{\\partial^2{F^{\\text{org}}_{\\text{HB}}}}{\\partial{\\theta}\\partial{J_2}}$"
   ]
  },
  {
   "cell_type": "code",
   "execution_count": 7,
   "id": "c5ca9f45",
   "metadata": {},
   "outputs": [
    {
     "data": {
      "text/latex": [
       "$\\displaystyle - \\frac{\\left(2 \\sqrt{J_{2}} \\cos{\\left(lode \\right)}\\right)^{\\frac{1}{a}} \\sin{\\left(lode \\right)}}{2 J_{2} a^{2} \\cos{\\left(lode \\right)}} + \\frac{m_{b} \\sigma_{ci}^{-1 + \\frac{1}{a}} \\left(- \\sin{\\left(lode \\right)} - \\frac{\\sqrt{3} \\cos{\\left(lode \\right)}}{3}\\right)}{2 \\sqrt{J_{2}}}$"
      ],
      "text/plain": [
       "-(2*sqrt(J2)*cos(lode))**(1/a)*sin(lode)/(2*J2*a**2*cos(lode)) + m_b*sigma_ci**(-1 + 1/a)*(-sin(lode) - sqrt(3)*cos(lode)/3)/(2*sqrt(J2))"
      ]
     },
     "metadata": {},
     "output_type": "display_data"
    }
   ],
   "source": [
    "dFHBO_ddlodeJ2 = sp.diff(dFHBO_dlode, J2)\n",
    "display(dFHBO_ddlodeJ2)\n"
   ]
  },
  {
   "cell_type": "markdown",
   "id": "a28d5cdf",
   "metadata": {},
   "source": [
    "## $F^{\\text{mod}}_{\\text{HB}}$"
   ]
  },
  {
   "cell_type": "code",
   "execution_count": 8,
   "id": "0384a865",
   "metadata": {},
   "outputs": [
    {
     "data": {
      "text/latex": [
       "$\\displaystyle \\frac{I_{1} m_{b} \\sigma_{ci}^{-1 + \\frac{1}{a}}}{3} + \\sqrt{J_{2}} m_{b} \\sigma_{ci}^{-1 + \\frac{1}{a}} \\left(A + B \\sin{\\left(3 lode \\right)} + C \\sin^{2}{\\left(3 lode \\right)}\\right) - s \\sigma_{ci}^{\\frac{1}{a}}$"
      ],
      "text/plain": [
       "I1*m_b*sigma_ci**(-1 + 1/a)/3 + sqrt(J2)*m_b*sigma_ci**(-1 + 1/a)*(A + B*sin(3*lode) + C*sin(3*lode)**2) - s*sigma_ci**(1/a)"
      ]
     },
     "metadata": {},
     "output_type": "display_data"
    }
   ],
   "source": [
    "F_hBMod = (\n",
    "    m_b\n",
    "    * sigma_ci ** (1 / a - 1)\n",
    "    * sqrt(J2)\n",
    "    * (A + B * sin(3 * lode) + C * sin(3 * lode) * sin(3 * lode))\n",
    "    + m_b * I1 / 3 * sigma_ci ** (1 / a - 1)\n",
    "    - s * sigma_ci ** (1 / a)\n",
    ")\n",
    "display(F_hBMod)\n"
   ]
  },
  {
   "cell_type": "markdown",
   "id": "12a71b89",
   "metadata": {},
   "source": [
    "## $\\cfrac{\\partial{F^{\\text{mod}}_{\\text{HB}}}}{\\partial{\\theta}}$"
   ]
  },
  {
   "cell_type": "code",
   "execution_count": 9,
   "id": "e9ef3235",
   "metadata": {},
   "outputs": [
    {
     "data": {
      "text/latex": [
       "$\\displaystyle \\sqrt{J_{2}} m_{b} \\sigma_{ci}^{-1 + \\frac{1}{a}} \\left(3 B \\cos{\\left(3 lode \\right)} + 6 C \\sin{\\left(3 lode \\right)} \\cos{\\left(3 lode \\right)}\\right)$"
      ],
      "text/plain": [
       "sqrt(J2)*m_b*sigma_ci**(-1 + 1/a)*(3*B*cos(3*lode) + 6*C*sin(3*lode)*cos(3*lode))"
      ]
     },
     "metadata": {},
     "output_type": "display_data"
    }
   ],
   "source": [
    "dFHBM_dlode = sp.diff(F_hBMod, lode)\n",
    "display(dFHBM_dlode)\n"
   ]
  },
  {
   "cell_type": "markdown",
   "id": "f34a4fe0",
   "metadata": {},
   "source": [
    "## $\\cfrac{\\partial^2{F^{\\text{mod}}_{\\text{HB}}}}{\\partial{\\theta}^2}$"
   ]
  },
  {
   "cell_type": "code",
   "execution_count": 10,
   "id": "a58077ab",
   "metadata": {},
   "outputs": [
    {
     "data": {
      "text/latex": [
       "$\\displaystyle \\sqrt{J_{2}} m_{b} \\sigma_{ci}^{-1 + \\frac{1}{a}} \\left(- 9 B \\sin{\\left(3 lode \\right)} - 18 C \\sin^{2}{\\left(3 lode \\right)} + 18 C \\cos^{2}{\\left(3 lode \\right)}\\right)$"
      ],
      "text/plain": [
       "sqrt(J2)*m_b*sigma_ci**(-1 + 1/a)*(-9*B*sin(3*lode) - 18*C*sin(3*lode)**2 + 18*C*cos(3*lode)**2)"
      ]
     },
     "metadata": {},
     "output_type": "display_data"
    }
   ],
   "source": [
    "dFHBM_ddlode = sp.diff(dFHBM_dlode, lode)\n",
    "display(dFHBM_ddlode)\n"
   ]
  },
  {
   "cell_type": "code",
   "execution_count": 11,
   "id": "93cf37f6",
   "metadata": {},
   "outputs": [
    {
     "data": {
      "text/plain": [
       "[{B: 2**(1/a)*sigma_ci*(sqrt(J2)*cos(lode))**(1/a)*sin(lode)**2*sin(3*lode)/(9*sqrt(J2)*a*m_b*sigma_ci**(1/a)*cos(lode)**2*cos(3*lode)**2) + 2**(1/a)*sigma_ci*(sqrt(J2)*cos(lode))**(1/a)*sin(lode)*sin(3*lode)**2/(3*sqrt(J2)*a*m_b*sigma_ci**(1/a)*cos(lode)*cos(3*lode)**3) - 2**(1/a)*sigma_ci*(sqrt(J2)*cos(lode))**(1/a)*sin(lode)/(3*sqrt(J2)*a*m_b*sigma_ci**(1/a)*cos(lode)*cos(3*lode)) + 2**(1/a)*sigma_ci*(sqrt(J2)*cos(lode))**(1/a)*sin(3*lode)/(9*sqrt(J2)*a*m_b*sigma_ci**(1/a)*cos(3*lode)**2) - 2**(1/a)*sigma_ci*(sqrt(J2)*cos(lode))**(1/a)*sin(lode)**2*sin(3*lode)/(9*sqrt(J2)*a**2*m_b*sigma_ci**(1/a)*cos(lode)**2*cos(3*lode)**2) + sin(lode)*sin(3*lode)**2/(3*cos(3*lode)**3) - sqrt(3)*sin(lode)*sin(3*lode)/(27*cos(3*lode)**2) - sin(lode)/(3*cos(3*lode)) + sqrt(3)*sin(3*lode)**2*cos(lode)/(9*cos(3*lode)**3) + sin(3*lode)*cos(lode)/(9*cos(3*lode)**2) - sqrt(3)*cos(lode)/(9*cos(3*lode)),\n",
       "  C: -2**(1/a)*sigma_ci*(sqrt(J2)*cos(lode))**(1/a)*sin(lode)**2/(18*sqrt(J2)*a*m_b*sigma_ci**(1/a)*cos(lode)**2*cos(3*lode)**2) - 2**(1/a)*sigma_ci*(sqrt(J2)*cos(lode))**(1/a)*sin(lode)*sin(3*lode)/(6*sqrt(J2)*a*m_b*sigma_ci**(1/a)*cos(lode)*cos(3*lode)**3) - 2**(1/a)*sigma_ci*(sqrt(J2)*cos(lode))**(1/a)/(18*sqrt(J2)*a*m_b*sigma_ci**(1/a)*cos(3*lode)**2) + 2**(1/a)*sigma_ci*(sqrt(J2)*cos(lode))**(1/a)*sin(lode)**2/(18*sqrt(J2)*a**2*m_b*sigma_ci**(1/a)*cos(lode)**2*cos(3*lode)**2) - sin(lode)*sin(3*lode)/(6*cos(3*lode)**3) + sqrt(3)*sin(lode)/(54*cos(3*lode)**2) - sqrt(3)*sin(3*lode)*cos(lode)/(18*cos(3*lode)**3) - cos(lode)/(18*cos(3*lode)**2)}]"
      ]
     },
     "execution_count": 11,
     "metadata": {},
     "output_type": "execute_result"
    }
   ],
   "source": [
    "from sympy import solve\n",
    "from sympy.abc import B, C\n",
    "import sympy as sp\n",
    "from sympy import *\n",
    "\n",
    "eq1 = dFHBO_dlode - dFHBM_dlode\n",
    "eq2 = dFHBO_ddlode - dFHBM_ddlode\n",
    "\n",
    "equations = [eq1, eq2]\n",
    "solutions = solve(equations, B, C, dict=True)\n",
    "solutions\n"
   ]
  },
  {
   "cell_type": "code",
   "execution_count": 13,
   "id": "86ca447c",
   "metadata": {},
   "outputs": [
    {
     "data": {
      "text/latex": [
       "$\\displaystyle \\frac{2^{\\frac{1}{a}} \\sigma_{ci} \\sigma_{ci}^{- \\frac{1}{a}} \\left(\\sqrt{J_{2}} \\cos{\\left(lode \\right)}\\right)^{\\frac{1}{a}} \\sin^{2}{\\left(lode \\right)} \\sin{\\left(3 lode \\right)}}{9 \\sqrt{J_{2}} a m_{b} \\cos^{2}{\\left(lode \\right)} \\cos^{2}{\\left(3 lode \\right)}} + \\frac{2^{\\frac{1}{a}} \\sigma_{ci} \\sigma_{ci}^{- \\frac{1}{a}} \\left(\\sqrt{J_{2}} \\cos{\\left(lode \\right)}\\right)^{\\frac{1}{a}} \\sin{\\left(lode \\right)} \\sin^{2}{\\left(3 lode \\right)}}{3 \\sqrt{J_{2}} a m_{b} \\cos{\\left(lode \\right)} \\cos^{3}{\\left(3 lode \\right)}} - \\frac{2^{\\frac{1}{a}} \\sigma_{ci} \\sigma_{ci}^{- \\frac{1}{a}} \\left(\\sqrt{J_{2}} \\cos{\\left(lode \\right)}\\right)^{\\frac{1}{a}} \\sin{\\left(lode \\right)}}{3 \\sqrt{J_{2}} a m_{b} \\cos{\\left(lode \\right)} \\cos{\\left(3 lode \\right)}} + \\frac{2^{\\frac{1}{a}} \\sigma_{ci} \\sigma_{ci}^{- \\frac{1}{a}} \\left(\\sqrt{J_{2}} \\cos{\\left(lode \\right)}\\right)^{\\frac{1}{a}} \\sin{\\left(3 lode \\right)}}{9 \\sqrt{J_{2}} a m_{b} \\cos^{2}{\\left(3 lode \\right)}} - \\frac{2^{\\frac{1}{a}} \\sigma_{ci} \\sigma_{ci}^{- \\frac{1}{a}} \\left(\\sqrt{J_{2}} \\cos{\\left(lode \\right)}\\right)^{\\frac{1}{a}} \\sin^{2}{\\left(lode \\right)} \\sin{\\left(3 lode \\right)}}{9 \\sqrt{J_{2}} a^{2} m_{b} \\cos^{2}{\\left(lode \\right)} \\cos^{2}{\\left(3 lode \\right)}} + \\frac{\\sin{\\left(lode \\right)} \\sin^{2}{\\left(3 lode \\right)}}{3 \\cos^{3}{\\left(3 lode \\right)}} - \\frac{\\sqrt{3} \\sin{\\left(lode \\right)} \\sin{\\left(3 lode \\right)}}{27 \\cos^{2}{\\left(3 lode \\right)}} - \\frac{\\sin{\\left(lode \\right)}}{3 \\cos{\\left(3 lode \\right)}} + \\frac{\\sqrt{3} \\sin^{2}{\\left(3 lode \\right)} \\cos{\\left(lode \\right)}}{9 \\cos^{3}{\\left(3 lode \\right)}} + \\frac{\\sin{\\left(3 lode \\right)} \\cos{\\left(lode \\right)}}{9 \\cos^{2}{\\left(3 lode \\right)}} - \\frac{\\sqrt{3} \\cos{\\left(lode \\right)}}{9 \\cos{\\left(3 lode \\right)}}$"
      ],
      "text/plain": [
       "2**(1/a)*sigma_ci*(sqrt(J2)*cos(lode))**(1/a)*sin(lode)**2*sin(3*lode)/(9*sqrt(J2)*a*m_b*sigma_ci**(1/a)*cos(lode)**2*cos(3*lode)**2) + 2**(1/a)*sigma_ci*(sqrt(J2)*cos(lode))**(1/a)*sin(lode)*sin(3*lode)**2/(3*sqrt(J2)*a*m_b*sigma_ci**(1/a)*cos(lode)*cos(3*lode)**3) - 2**(1/a)*sigma_ci*(sqrt(J2)*cos(lode))**(1/a)*sin(lode)/(3*sqrt(J2)*a*m_b*sigma_ci**(1/a)*cos(lode)*cos(3*lode)) + 2**(1/a)*sigma_ci*(sqrt(J2)*cos(lode))**(1/a)*sin(3*lode)/(9*sqrt(J2)*a*m_b*sigma_ci**(1/a)*cos(3*lode)**2) - 2**(1/a)*sigma_ci*(sqrt(J2)*cos(lode))**(1/a)*sin(lode)**2*sin(3*lode)/(9*sqrt(J2)*a**2*m_b*sigma_ci**(1/a)*cos(lode)**2*cos(3*lode)**2) + sin(lode)*sin(3*lode)**2/(3*cos(3*lode)**3) - sqrt(3)*sin(lode)*sin(3*lode)/(27*cos(3*lode)**2) - sin(lode)/(3*cos(3*lode)) + sqrt(3)*sin(3*lode)**2*cos(lode)/(9*cos(3*lode)**3) + sin(3*lode)*cos(lode)/(9*cos(3*lode)**2) - sqrt(3)*cos(lode)/(9*cos(3*lode))"
      ]
     },
     "metadata": {},
     "output_type": "display_data"
    }
   ],
   "source": [
    "Bx = (\n",
    "    2 ** (1 / a)\n",
    "    * sigma_ci\n",
    "    * (sqrt(J2) * cos(lode)) ** (1 / a)\n",
    "    * sin(lode) ** 2\n",
    "    * sin(3 * lode)\n",
    "    / (\n",
    "        9\n",
    "        * sqrt(J2)\n",
    "        * a\n",
    "        * m_b\n",
    "        * sigma_ci ** (1 / a)\n",
    "        * cos(lode) ** 2\n",
    "        * cos(3 * lode) ** 2\n",
    "    )\n",
    "    + 2 ** (1 / a)\n",
    "    * sigma_ci\n",
    "    * (sqrt(J2) * cos(lode)) ** (1 / a)\n",
    "    * sin(lode)\n",
    "    * sin(3 * lode) ** 2\n",
    "    / (3 * sqrt(J2) * a * m_b * sigma_ci ** (1 / a) * cos(lode) * cos(3 * lode) ** 3)\n",
    "    - 2 ** (1 / a)\n",
    "    * sigma_ci\n",
    "    * (sqrt(J2) * cos(lode)) ** (1 / a)\n",
    "    * sin(lode)\n",
    "    / (3 * sqrt(J2) * a * m_b * sigma_ci ** (1 / a) * cos(lode) * cos(3 * lode))\n",
    "    + 2 ** (1 / a)\n",
    "    * sigma_ci\n",
    "    * (sqrt(J2) * cos(lode)) ** (1 / a)\n",
    "    * sin(3 * lode)\n",
    "    / (9 * sqrt(J2) * a * m_b * sigma_ci ** (1 / a) * cos(3 * lode) ** 2)\n",
    "    - 2 ** (1 / a)\n",
    "    * sigma_ci\n",
    "    * (sqrt(J2) * cos(lode)) ** (1 / a)\n",
    "    * sin(lode) ** 2\n",
    "    * sin(3 * lode)\n",
    "    / (\n",
    "        9\n",
    "        * sqrt(J2)\n",
    "        * a**2\n",
    "        * m_b\n",
    "        * sigma_ci ** (1 / a)\n",
    "        * cos(lode) ** 2\n",
    "        * cos(3 * lode) ** 2\n",
    "    )\n",
    "    + sin(lode) * sin(3 * lode) ** 2 / (3 * cos(3 * lode) ** 3)\n",
    "    - sqrt(3) * sin(lode) * sin(3 * lode) / (27 * cos(3 * lode) ** 2)\n",
    "    - sin(lode) / (3 * cos(3 * lode))\n",
    "    + sqrt(3) * sin(3 * lode) ** 2 * cos(lode) / (9 * cos(3 * lode) ** 3)\n",
    "    + sin(3 * lode) * cos(lode) / (9 * cos(3 * lode) ** 2)\n",
    "    - sqrt(3) * cos(lode) / (9 * cos(3 * lode))\n",
    ")\n",
    "display(Bx)\n"
   ]
  },
  {
   "cell_type": "code",
   "execution_count": 13,
   "id": "ea8c4527",
   "metadata": {},
   "outputs": [
    {
     "data": {
      "text/latex": [
       "$\\displaystyle - \\frac{2^{\\frac{1}{a}} \\sigma_{ci} \\sigma_{ci}^{- \\frac{1}{a}} \\left(\\sqrt{J_{2}} \\cos{\\left(lode \\right)}\\right)^{\\frac{1}{a}} \\sin^{2}{\\left(lode \\right)} \\sin{\\left(3 lode \\right)}}{18 J_{2}^{\\frac{3}{2}} a m_{b} \\cos^{2}{\\left(lode \\right)} \\cos^{2}{\\left(3 lode \\right)}} - \\frac{2^{\\frac{1}{a}} \\sigma_{ci} \\sigma_{ci}^{- \\frac{1}{a}} \\left(\\sqrt{J_{2}} \\cos{\\left(lode \\right)}\\right)^{\\frac{1}{a}} \\sin{\\left(lode \\right)} \\sin^{2}{\\left(3 lode \\right)}}{6 J_{2}^{\\frac{3}{2}} a m_{b} \\cos{\\left(lode \\right)} \\cos^{3}{\\left(3 lode \\right)}} + \\frac{2^{\\frac{1}{a}} \\sigma_{ci} \\sigma_{ci}^{- \\frac{1}{a}} \\left(\\sqrt{J_{2}} \\cos{\\left(lode \\right)}\\right)^{\\frac{1}{a}} \\sin{\\left(lode \\right)}}{6 J_{2}^{\\frac{3}{2}} a m_{b} \\cos{\\left(lode \\right)} \\cos{\\left(3 lode \\right)}} - \\frac{2^{\\frac{1}{a}} \\sigma_{ci} \\sigma_{ci}^{- \\frac{1}{a}} \\left(\\sqrt{J_{2}} \\cos{\\left(lode \\right)}\\right)^{\\frac{1}{a}} \\sin{\\left(3 lode \\right)}}{18 J_{2}^{\\frac{3}{2}} a m_{b} \\cos^{2}{\\left(3 lode \\right)}} + \\frac{2^{\\frac{1}{a}} \\sigma_{ci} \\sigma_{ci}^{- \\frac{1}{a}} \\left(\\sqrt{J_{2}} \\cos{\\left(lode \\right)}\\right)^{\\frac{1}{a}} \\sin^{2}{\\left(lode \\right)} \\sin{\\left(3 lode \\right)}}{9 J_{2}^{\\frac{3}{2}} a^{2} m_{b} \\cos^{2}{\\left(lode \\right)} \\cos^{2}{\\left(3 lode \\right)}} + \\frac{2^{\\frac{1}{a}} \\sigma_{ci} \\sigma_{ci}^{- \\frac{1}{a}} \\left(\\sqrt{J_{2}} \\cos{\\left(lode \\right)}\\right)^{\\frac{1}{a}} \\sin{\\left(lode \\right)} \\sin^{2}{\\left(3 lode \\right)}}{6 J_{2}^{\\frac{3}{2}} a^{2} m_{b} \\cos{\\left(lode \\right)} \\cos^{3}{\\left(3 lode \\right)}} - \\frac{2^{\\frac{1}{a}} \\sigma_{ci} \\sigma_{ci}^{- \\frac{1}{a}} \\left(\\sqrt{J_{2}} \\cos{\\left(lode \\right)}\\right)^{\\frac{1}{a}} \\sin{\\left(lode \\right)}}{6 J_{2}^{\\frac{3}{2}} a^{2} m_{b} \\cos{\\left(lode \\right)} \\cos{\\left(3 lode \\right)}} + \\frac{2^{\\frac{1}{a}} \\sigma_{ci} \\sigma_{ci}^{- \\frac{1}{a}} \\left(\\sqrt{J_{2}} \\cos{\\left(lode \\right)}\\right)^{\\frac{1}{a}} \\sin{\\left(3 lode \\right)}}{18 J_{2}^{\\frac{3}{2}} a^{2} m_{b} \\cos^{2}{\\left(3 lode \\right)}} - \\frac{2^{\\frac{1}{a}} \\sigma_{ci} \\sigma_{ci}^{- \\frac{1}{a}} \\left(\\sqrt{J_{2}} \\cos{\\left(lode \\right)}\\right)^{\\frac{1}{a}} \\sin^{2}{\\left(lode \\right)} \\sin{\\left(3 lode \\right)}}{18 J_{2}^{\\frac{3}{2}} a^{3} m_{b} \\cos^{2}{\\left(lode \\right)} \\cos^{2}{\\left(3 lode \\right)}}$"
      ],
      "text/plain": [
       "-2**(1/a)*sigma_ci*(sqrt(J2)*cos(lode))**(1/a)*sin(lode)**2*sin(3*lode)/(18*J2**(3/2)*a*m_b*sigma_ci**(1/a)*cos(lode)**2*cos(3*lode)**2) - 2**(1/a)*sigma_ci*(sqrt(J2)*cos(lode))**(1/a)*sin(lode)*sin(3*lode)**2/(6*J2**(3/2)*a*m_b*sigma_ci**(1/a)*cos(lode)*cos(3*lode)**3) + 2**(1/a)*sigma_ci*(sqrt(J2)*cos(lode))**(1/a)*sin(lode)/(6*J2**(3/2)*a*m_b*sigma_ci**(1/a)*cos(lode)*cos(3*lode)) - 2**(1/a)*sigma_ci*(sqrt(J2)*cos(lode))**(1/a)*sin(3*lode)/(18*J2**(3/2)*a*m_b*sigma_ci**(1/a)*cos(3*lode)**2) + 2**(1/a)*sigma_ci*(sqrt(J2)*cos(lode))**(1/a)*sin(lode)**2*sin(3*lode)/(9*J2**(3/2)*a**2*m_b*sigma_ci**(1/a)*cos(lode)**2*cos(3*lode)**2) + 2**(1/a)*sigma_ci*(sqrt(J2)*cos(lode))**(1/a)*sin(lode)*sin(3*lode)**2/(6*J2**(3/2)*a**2*m_b*sigma_ci**(1/a)*cos(lode)*cos(3*lode)**3) - 2**(1/a)*sigma_ci*(sqrt(J2)*cos(lode))**(1/a)*sin(lode)/(6*J2**(3/2)*a**2*m_b*sigma_ci**(1/a)*cos(lode)*cos(3*lode)) + 2**(1/a)*sigma_ci*(sqrt(J2)*cos(lode))**(1/a)*sin(3*lode)/(18*J2**(3/2)*a**2*m_b*sigma_ci**(1/a)*cos(3*lode)**2) - 2**(1/a)*sigma_ci*(sqrt(J2)*cos(lode))**(1/a)*sin(lode)**2*sin(3*lode)/(18*J2**(3/2)*a**3*m_b*sigma_ci**(1/a)*cos(lode)**2*cos(3*lode)**2)"
      ]
     },
     "metadata": {},
     "output_type": "display_data"
    }
   ],
   "source": [
    "dBx_dJ2 = sp.diff(Bx, J2)\n",
    "display(dBx_dJ2)"
   ]
  },
  {
   "cell_type": "code",
   "execution_count": 14,
   "id": "3914cbe9",
   "metadata": {},
   "outputs": [
    {
     "data": {
      "text/latex": [
       "$\\displaystyle \\frac{2^{\\frac{1}{a}} \\sigma_{ci} \\sigma_{ci}^{- \\frac{1}{a}} \\left(\\sqrt{J_{2}} \\cos{\\left(lode \\right)}\\right)^{\\frac{1}{a}} \\sin^{2}{\\left(lode \\right)} \\sin{\\left(3 lode \\right)}}{12 J_{2}^{\\frac{5}{2}} a m_{b} \\cos^{2}{\\left(lode \\right)} \\cos^{2}{\\left(3 lode \\right)}} + \\frac{2^{\\frac{1}{a}} \\sigma_{ci} \\sigma_{ci}^{- \\frac{1}{a}} \\left(\\sqrt{J_{2}} \\cos{\\left(lode \\right)}\\right)^{\\frac{1}{a}} \\sin{\\left(lode \\right)} \\sin^{2}{\\left(3 lode \\right)}}{4 J_{2}^{\\frac{5}{2}} a m_{b} \\cos{\\left(lode \\right)} \\cos^{3}{\\left(3 lode \\right)}} - \\frac{2^{\\frac{1}{a}} \\sigma_{ci} \\sigma_{ci}^{- \\frac{1}{a}} \\left(\\sqrt{J_{2}} \\cos{\\left(lode \\right)}\\right)^{\\frac{1}{a}} \\sin{\\left(lode \\right)}}{4 J_{2}^{\\frac{5}{2}} a m_{b} \\cos{\\left(lode \\right)} \\cos{\\left(3 lode \\right)}} + \\frac{2^{\\frac{1}{a}} \\sigma_{ci} \\sigma_{ci}^{- \\frac{1}{a}} \\left(\\sqrt{J_{2}} \\cos{\\left(lode \\right)}\\right)^{\\frac{1}{a}} \\sin{\\left(3 lode \\right)}}{12 J_{2}^{\\frac{5}{2}} a m_{b} \\cos^{2}{\\left(3 lode \\right)}} - \\frac{7 \\cdot 2^{\\frac{1}{a}} \\sigma_{ci} \\sigma_{ci}^{- \\frac{1}{a}} \\left(\\sqrt{J_{2}} \\cos{\\left(lode \\right)}\\right)^{\\frac{1}{a}} \\sin^{2}{\\left(lode \\right)} \\sin{\\left(3 lode \\right)}}{36 J_{2}^{\\frac{5}{2}} a^{2} m_{b} \\cos^{2}{\\left(lode \\right)} \\cos^{2}{\\left(3 lode \\right)}} - \\frac{2^{\\frac{1}{a}} \\sigma_{ci} \\sigma_{ci}^{- \\frac{1}{a}} \\left(\\sqrt{J_{2}} \\cos{\\left(lode \\right)}\\right)^{\\frac{1}{a}} \\sin{\\left(lode \\right)} \\sin^{2}{\\left(3 lode \\right)}}{3 J_{2}^{\\frac{5}{2}} a^{2} m_{b} \\cos{\\left(lode \\right)} \\cos^{3}{\\left(3 lode \\right)}} + \\frac{2^{\\frac{1}{a}} \\sigma_{ci} \\sigma_{ci}^{- \\frac{1}{a}} \\left(\\sqrt{J_{2}} \\cos{\\left(lode \\right)}\\right)^{\\frac{1}{a}} \\sin{\\left(lode \\right)}}{3 J_{2}^{\\frac{5}{2}} a^{2} m_{b} \\cos{\\left(lode \\right)} \\cos{\\left(3 lode \\right)}} - \\frac{2^{\\frac{1}{a}} \\sigma_{ci} \\sigma_{ci}^{- \\frac{1}{a}} \\left(\\sqrt{J_{2}} \\cos{\\left(lode \\right)}\\right)^{\\frac{1}{a}} \\sin{\\left(3 lode \\right)}}{9 J_{2}^{\\frac{5}{2}} a^{2} m_{b} \\cos^{2}{\\left(3 lode \\right)}} + \\frac{5 \\cdot 2^{\\frac{1}{a}} \\sigma_{ci} \\sigma_{ci}^{- \\frac{1}{a}} \\left(\\sqrt{J_{2}} \\cos{\\left(lode \\right)}\\right)^{\\frac{1}{a}} \\sin^{2}{\\left(lode \\right)} \\sin{\\left(3 lode \\right)}}{36 J_{2}^{\\frac{5}{2}} a^{3} m_{b} \\cos^{2}{\\left(lode \\right)} \\cos^{2}{\\left(3 lode \\right)}} + \\frac{2^{\\frac{1}{a}} \\sigma_{ci} \\sigma_{ci}^{- \\frac{1}{a}} \\left(\\sqrt{J_{2}} \\cos{\\left(lode \\right)}\\right)^{\\frac{1}{a}} \\sin{\\left(lode \\right)} \\sin^{2}{\\left(3 lode \\right)}}{12 J_{2}^{\\frac{5}{2}} a^{3} m_{b} \\cos{\\left(lode \\right)} \\cos^{3}{\\left(3 lode \\right)}} - \\frac{2^{\\frac{1}{a}} \\sigma_{ci} \\sigma_{ci}^{- \\frac{1}{a}} \\left(\\sqrt{J_{2}} \\cos{\\left(lode \\right)}\\right)^{\\frac{1}{a}} \\sin{\\left(lode \\right)}}{12 J_{2}^{\\frac{5}{2}} a^{3} m_{b} \\cos{\\left(lode \\right)} \\cos{\\left(3 lode \\right)}} + \\frac{2^{\\frac{1}{a}} \\sigma_{ci} \\sigma_{ci}^{- \\frac{1}{a}} \\left(\\sqrt{J_{2}} \\cos{\\left(lode \\right)}\\right)^{\\frac{1}{a}} \\sin{\\left(3 lode \\right)}}{36 J_{2}^{\\frac{5}{2}} a^{3} m_{b} \\cos^{2}{\\left(3 lode \\right)}} - \\frac{2^{\\frac{1}{a}} \\sigma_{ci} \\sigma_{ci}^{- \\frac{1}{a}} \\left(\\sqrt{J_{2}} \\cos{\\left(lode \\right)}\\right)^{\\frac{1}{a}} \\sin^{2}{\\left(lode \\right)} \\sin{\\left(3 lode \\right)}}{36 J_{2}^{\\frac{5}{2}} a^{4} m_{b} \\cos^{2}{\\left(lode \\right)} \\cos^{2}{\\left(3 lode \\right)}}$"
      ],
      "text/plain": [
       "2**(1/a)*sigma_ci*(sqrt(J2)*cos(lode))**(1/a)*sin(lode)**2*sin(3*lode)/(12*J2**(5/2)*a*m_b*sigma_ci**(1/a)*cos(lode)**2*cos(3*lode)**2) + 2**(1/a)*sigma_ci*(sqrt(J2)*cos(lode))**(1/a)*sin(lode)*sin(3*lode)**2/(4*J2**(5/2)*a*m_b*sigma_ci**(1/a)*cos(lode)*cos(3*lode)**3) - 2**(1/a)*sigma_ci*(sqrt(J2)*cos(lode))**(1/a)*sin(lode)/(4*J2**(5/2)*a*m_b*sigma_ci**(1/a)*cos(lode)*cos(3*lode)) + 2**(1/a)*sigma_ci*(sqrt(J2)*cos(lode))**(1/a)*sin(3*lode)/(12*J2**(5/2)*a*m_b*sigma_ci**(1/a)*cos(3*lode)**2) - 7*2**(1/a)*sigma_ci*(sqrt(J2)*cos(lode))**(1/a)*sin(lode)**2*sin(3*lode)/(36*J2**(5/2)*a**2*m_b*sigma_ci**(1/a)*cos(lode)**2*cos(3*lode)**2) - 2**(1/a)*sigma_ci*(sqrt(J2)*cos(lode))**(1/a)*sin(lode)*sin(3*lode)**2/(3*J2**(5/2)*a**2*m_b*sigma_ci**(1/a)*cos(lode)*cos(3*lode)**3) + 2**(1/a)*sigma_ci*(sqrt(J2)*cos(lode))**(1/a)*sin(lode)/(3*J2**(5/2)*a**2*m_b*sigma_ci**(1/a)*cos(lode)*cos(3*lode)) - 2**(1/a)*sigma_ci*(sqrt(J2)*cos(lode))**(1/a)*sin(3*lode)/(9*J2**(5/2)*a**2*m_b*sigma_ci**(1/a)*cos(3*lode)**2) + 5*2**(1/a)*sigma_ci*(sqrt(J2)*cos(lode))**(1/a)*sin(lode)**2*sin(3*lode)/(36*J2**(5/2)*a**3*m_b*sigma_ci**(1/a)*cos(lode)**2*cos(3*lode)**2) + 2**(1/a)*sigma_ci*(sqrt(J2)*cos(lode))**(1/a)*sin(lode)*sin(3*lode)**2/(12*J2**(5/2)*a**3*m_b*sigma_ci**(1/a)*cos(lode)*cos(3*lode)**3) - 2**(1/a)*sigma_ci*(sqrt(J2)*cos(lode))**(1/a)*sin(lode)/(12*J2**(5/2)*a**3*m_b*sigma_ci**(1/a)*cos(lode)*cos(3*lode)) + 2**(1/a)*sigma_ci*(sqrt(J2)*cos(lode))**(1/a)*sin(3*lode)/(36*J2**(5/2)*a**3*m_b*sigma_ci**(1/a)*cos(3*lode)**2) - 2**(1/a)*sigma_ci*(sqrt(J2)*cos(lode))**(1/a)*sin(lode)**2*sin(3*lode)/(36*J2**(5/2)*a**4*m_b*sigma_ci**(1/a)*cos(lode)**2*cos(3*lode)**2)"
      ]
     },
     "metadata": {},
     "output_type": "display_data"
    }
   ],
   "source": [
    "dBx_ddJ2 = sp.diff(dBx_dJ2, J2)\n",
    "display(dBx_ddJ2)\n"
   ]
  },
  {
   "cell_type": "code",
   "execution_count": 15,
   "id": "205e0e1c",
   "metadata": {},
   "outputs": [
    {
     "data": {
      "text/latex": [
       "$\\displaystyle - \\frac{2^{\\frac{1}{a}} \\sigma_{ci} \\sigma_{ci}^{- \\frac{1}{a}} \\left(\\sqrt{J_{2}} \\cos{\\left(lode \\right)}\\right)^{\\frac{1}{a}} \\sin^{2}{\\left(lode \\right)}}{18 \\sqrt{J_{2}} a m_{b} \\cos^{2}{\\left(lode \\right)} \\cos^{2}{\\left(3 lode \\right)}} - \\frac{2^{\\frac{1}{a}} \\sigma_{ci} \\sigma_{ci}^{- \\frac{1}{a}} \\left(\\sqrt{J_{2}} \\cos{\\left(lode \\right)}\\right)^{\\frac{1}{a}} \\sin{\\left(lode \\right)} \\sin{\\left(3 lode \\right)}}{6 \\sqrt{J_{2}} a m_{b} \\cos{\\left(lode \\right)} \\cos^{3}{\\left(3 lode \\right)}} - \\frac{2^{\\frac{1}{a}} \\sigma_{ci} \\sigma_{ci}^{- \\frac{1}{a}} \\left(\\sqrt{J_{2}} \\cos{\\left(lode \\right)}\\right)^{\\frac{1}{a}}}{18 \\sqrt{J_{2}} a m_{b} \\cos^{2}{\\left(3 lode \\right)}} + \\frac{2^{\\frac{1}{a}} \\sigma_{ci} \\sigma_{ci}^{- \\frac{1}{a}} \\left(\\sqrt{J_{2}} \\cos{\\left(lode \\right)}\\right)^{\\frac{1}{a}} \\sin^{2}{\\left(lode \\right)}}{18 \\sqrt{J_{2}} a^{2} m_{b} \\cos^{2}{\\left(lode \\right)} \\cos^{2}{\\left(3 lode \\right)}} - \\frac{\\sin{\\left(lode \\right)} \\sin{\\left(3 lode \\right)}}{6 \\cos^{3}{\\left(3 lode \\right)}} + \\frac{\\sqrt{3} \\sin{\\left(lode \\right)}}{54 \\cos^{2}{\\left(3 lode \\right)}} - \\frac{\\sqrt{3} \\sin{\\left(3 lode \\right)} \\cos{\\left(lode \\right)}}{18 \\cos^{3}{\\left(3 lode \\right)}} - \\frac{\\cos{\\left(lode \\right)}}{18 \\cos^{2}{\\left(3 lode \\right)}}$"
      ],
      "text/plain": [
       "-2**(1/a)*sigma_ci*(sqrt(J2)*cos(lode))**(1/a)*sin(lode)**2/(18*sqrt(J2)*a*m_b*sigma_ci**(1/a)*cos(lode)**2*cos(3*lode)**2) - 2**(1/a)*sigma_ci*(sqrt(J2)*cos(lode))**(1/a)*sin(lode)*sin(3*lode)/(6*sqrt(J2)*a*m_b*sigma_ci**(1/a)*cos(lode)*cos(3*lode)**3) - 2**(1/a)*sigma_ci*(sqrt(J2)*cos(lode))**(1/a)/(18*sqrt(J2)*a*m_b*sigma_ci**(1/a)*cos(3*lode)**2) + 2**(1/a)*sigma_ci*(sqrt(J2)*cos(lode))**(1/a)*sin(lode)**2/(18*sqrt(J2)*a**2*m_b*sigma_ci**(1/a)*cos(lode)**2*cos(3*lode)**2) - sin(lode)*sin(3*lode)/(6*cos(3*lode)**3) + sqrt(3)*sin(lode)/(54*cos(3*lode)**2) - sqrt(3)*sin(3*lode)*cos(lode)/(18*cos(3*lode)**3) - cos(lode)/(18*cos(3*lode)**2)"
      ]
     },
     "metadata": {},
     "output_type": "display_data"
    }
   ],
   "source": [
    "Cx = (\n",
    "    -(2 ** (1 / a))\n",
    "    * sigma_ci\n",
    "    * (sqrt(J2) * cos(lode)) ** (1 / a)\n",
    "    * sin(lode) ** 2\n",
    "    / (\n",
    "        18\n",
    "        * sqrt(J2)\n",
    "        * a\n",
    "        * m_b\n",
    "        * sigma_ci ** (1 / a)\n",
    "        * cos(lode) ** 2\n",
    "        * cos(3 * lode) ** 2\n",
    "    )\n",
    "    - 2 ** (1 / a)\n",
    "    * sigma_ci\n",
    "    * (sqrt(J2) * cos(lode)) ** (1 / a)\n",
    "    * sin(lode)\n",
    "    * sin(3 * lode)\n",
    "    / (6 * sqrt(J2) * a * m_b * sigma_ci ** (1 / a) * cos(lode) * cos(3 * lode) ** 3)\n",
    "    - 2 ** (1 / a)\n",
    "    * sigma_ci\n",
    "    * (sqrt(J2) * cos(lode)) ** (1 / a)\n",
    "    / (18 * sqrt(J2) * a * m_b * sigma_ci ** (1 / a) * cos(3 * lode) ** 2)\n",
    "    + 2 ** (1 / a)\n",
    "    * sigma_ci\n",
    "    * (sqrt(J2) * cos(lode)) ** (1 / a)\n",
    "    * sin(lode) ** 2\n",
    "    / (\n",
    "        18\n",
    "        * sqrt(J2)\n",
    "        * a**2\n",
    "        * m_b\n",
    "        * sigma_ci ** (1 / a)\n",
    "        * cos(lode) ** 2\n",
    "        * cos(3 * lode) ** 2\n",
    "    )\n",
    "    - sin(lode) * sin(3 * lode) / (6 * cos(3 * lode) ** 3)\n",
    "    + sqrt(3) * sin(lode) / (54 * cos(3 * lode) ** 2)\n",
    "    - sqrt(3) * sin(3 * lode) * cos(lode) / (18 * cos(3 * lode) ** 3)\n",
    "    - cos(lode) / (18 * cos(3 * lode) ** 2)\n",
    ")\n",
    "\n",
    "display(Cx)"
   ]
  },
  {
   "cell_type": "code",
   "execution_count": 16,
   "id": "a3c7a61c",
   "metadata": {},
   "outputs": [
    {
     "data": {
      "text/latex": [
       "$\\displaystyle \\frac{2^{\\frac{1}{a}} \\sigma_{ci} \\sigma_{ci}^{- \\frac{1}{a}} \\left(\\sqrt{J_{2}} \\cos{\\left(lode \\right)}\\right)^{\\frac{1}{a}} \\sin^{2}{\\left(lode \\right)}}{36 J_{2}^{\\frac{3}{2}} a m_{b} \\cos^{2}{\\left(lode \\right)} \\cos^{2}{\\left(3 lode \\right)}} + \\frac{2^{\\frac{1}{a}} \\sigma_{ci} \\sigma_{ci}^{- \\frac{1}{a}} \\left(\\sqrt{J_{2}} \\cos{\\left(lode \\right)}\\right)^{\\frac{1}{a}} \\sin{\\left(lode \\right)} \\sin{\\left(3 lode \\right)}}{12 J_{2}^{\\frac{3}{2}} a m_{b} \\cos{\\left(lode \\right)} \\cos^{3}{\\left(3 lode \\right)}} + \\frac{2^{\\frac{1}{a}} \\sigma_{ci} \\sigma_{ci}^{- \\frac{1}{a}} \\left(\\sqrt{J_{2}} \\cos{\\left(lode \\right)}\\right)^{\\frac{1}{a}}}{36 J_{2}^{\\frac{3}{2}} a m_{b} \\cos^{2}{\\left(3 lode \\right)}} - \\frac{2^{\\frac{1}{a}} \\sigma_{ci} \\sigma_{ci}^{- \\frac{1}{a}} \\left(\\sqrt{J_{2}} \\cos{\\left(lode \\right)}\\right)^{\\frac{1}{a}} \\sin^{2}{\\left(lode \\right)}}{18 J_{2}^{\\frac{3}{2}} a^{2} m_{b} \\cos^{2}{\\left(lode \\right)} \\cos^{2}{\\left(3 lode \\right)}} - \\frac{2^{\\frac{1}{a}} \\sigma_{ci} \\sigma_{ci}^{- \\frac{1}{a}} \\left(\\sqrt{J_{2}} \\cos{\\left(lode \\right)}\\right)^{\\frac{1}{a}} \\sin{\\left(lode \\right)} \\sin{\\left(3 lode \\right)}}{12 J_{2}^{\\frac{3}{2}} a^{2} m_{b} \\cos{\\left(lode \\right)} \\cos^{3}{\\left(3 lode \\right)}} - \\frac{2^{\\frac{1}{a}} \\sigma_{ci} \\sigma_{ci}^{- \\frac{1}{a}} \\left(\\sqrt{J_{2}} \\cos{\\left(lode \\right)}\\right)^{\\frac{1}{a}}}{36 J_{2}^{\\frac{3}{2}} a^{2} m_{b} \\cos^{2}{\\left(3 lode \\right)}} + \\frac{2^{\\frac{1}{a}} \\sigma_{ci} \\sigma_{ci}^{- \\frac{1}{a}} \\left(\\sqrt{J_{2}} \\cos{\\left(lode \\right)}\\right)^{\\frac{1}{a}} \\sin^{2}{\\left(lode \\right)}}{36 J_{2}^{\\frac{3}{2}} a^{3} m_{b} \\cos^{2}{\\left(lode \\right)} \\cos^{2}{\\left(3 lode \\right)}}$"
      ],
      "text/plain": [
       "2**(1/a)*sigma_ci*(sqrt(J2)*cos(lode))**(1/a)*sin(lode)**2/(36*J2**(3/2)*a*m_b*sigma_ci**(1/a)*cos(lode)**2*cos(3*lode)**2) + 2**(1/a)*sigma_ci*(sqrt(J2)*cos(lode))**(1/a)*sin(lode)*sin(3*lode)/(12*J2**(3/2)*a*m_b*sigma_ci**(1/a)*cos(lode)*cos(3*lode)**3) + 2**(1/a)*sigma_ci*(sqrt(J2)*cos(lode))**(1/a)/(36*J2**(3/2)*a*m_b*sigma_ci**(1/a)*cos(3*lode)**2) - 2**(1/a)*sigma_ci*(sqrt(J2)*cos(lode))**(1/a)*sin(lode)**2/(18*J2**(3/2)*a**2*m_b*sigma_ci**(1/a)*cos(lode)**2*cos(3*lode)**2) - 2**(1/a)*sigma_ci*(sqrt(J2)*cos(lode))**(1/a)*sin(lode)*sin(3*lode)/(12*J2**(3/2)*a**2*m_b*sigma_ci**(1/a)*cos(lode)*cos(3*lode)**3) - 2**(1/a)*sigma_ci*(sqrt(J2)*cos(lode))**(1/a)/(36*J2**(3/2)*a**2*m_b*sigma_ci**(1/a)*cos(3*lode)**2) + 2**(1/a)*sigma_ci*(sqrt(J2)*cos(lode))**(1/a)*sin(lode)**2/(36*J2**(3/2)*a**3*m_b*sigma_ci**(1/a)*cos(lode)**2*cos(3*lode)**2)"
      ]
     },
     "metadata": {},
     "output_type": "display_data"
    }
   ],
   "source": [
    "dCx_dJ2 = sp.diff(Cx, J2)\n",
    "display(dCx_dJ2)"
   ]
  },
  {
   "cell_type": "code",
   "execution_count": 17,
   "id": "0f22a54e",
   "metadata": {},
   "outputs": [
    {
     "data": {
      "text/latex": [
       "$\\displaystyle - \\frac{2^{\\frac{1}{a}} \\sigma_{ci} \\sigma_{ci}^{- \\frac{1}{a}} \\left(\\sqrt{J_{2}} \\cos{\\left(lode \\right)}\\right)^{\\frac{1}{a}} \\sin^{2}{\\left(lode \\right)}}{24 J_{2}^{\\frac{5}{2}} a m_{b} \\cos^{2}{\\left(lode \\right)} \\cos^{2}{\\left(3 lode \\right)}} - \\frac{2^{\\frac{1}{a}} \\sigma_{ci} \\sigma_{ci}^{- \\frac{1}{a}} \\left(\\sqrt{J_{2}} \\cos{\\left(lode \\right)}\\right)^{\\frac{1}{a}} \\sin{\\left(lode \\right)} \\sin{\\left(3 lode \\right)}}{8 J_{2}^{\\frac{5}{2}} a m_{b} \\cos{\\left(lode \\right)} \\cos^{3}{\\left(3 lode \\right)}} - \\frac{2^{\\frac{1}{a}} \\sigma_{ci} \\sigma_{ci}^{- \\frac{1}{a}} \\left(\\sqrt{J_{2}} \\cos{\\left(lode \\right)}\\right)^{\\frac{1}{a}}}{24 J_{2}^{\\frac{5}{2}} a m_{b} \\cos^{2}{\\left(3 lode \\right)}} + \\frac{7 \\cdot 2^{\\frac{1}{a}} \\sigma_{ci} \\sigma_{ci}^{- \\frac{1}{a}} \\left(\\sqrt{J_{2}} \\cos{\\left(lode \\right)}\\right)^{\\frac{1}{a}} \\sin^{2}{\\left(lode \\right)}}{72 J_{2}^{\\frac{5}{2}} a^{2} m_{b} \\cos^{2}{\\left(lode \\right)} \\cos^{2}{\\left(3 lode \\right)}} + \\frac{2^{\\frac{1}{a}} \\sigma_{ci} \\sigma_{ci}^{- \\frac{1}{a}} \\left(\\sqrt{J_{2}} \\cos{\\left(lode \\right)}\\right)^{\\frac{1}{a}} \\sin{\\left(lode \\right)} \\sin{\\left(3 lode \\right)}}{6 J_{2}^{\\frac{5}{2}} a^{2} m_{b} \\cos{\\left(lode \\right)} \\cos^{3}{\\left(3 lode \\right)}} + \\frac{2^{\\frac{1}{a}} \\sigma_{ci} \\sigma_{ci}^{- \\frac{1}{a}} \\left(\\sqrt{J_{2}} \\cos{\\left(lode \\right)}\\right)^{\\frac{1}{a}}}{18 J_{2}^{\\frac{5}{2}} a^{2} m_{b} \\cos^{2}{\\left(3 lode \\right)}} - \\frac{5 \\cdot 2^{\\frac{1}{a}} \\sigma_{ci} \\sigma_{ci}^{- \\frac{1}{a}} \\left(\\sqrt{J_{2}} \\cos{\\left(lode \\right)}\\right)^{\\frac{1}{a}} \\sin^{2}{\\left(lode \\right)}}{72 J_{2}^{\\frac{5}{2}} a^{3} m_{b} \\cos^{2}{\\left(lode \\right)} \\cos^{2}{\\left(3 lode \\right)}} - \\frac{2^{\\frac{1}{a}} \\sigma_{ci} \\sigma_{ci}^{- \\frac{1}{a}} \\left(\\sqrt{J_{2}} \\cos{\\left(lode \\right)}\\right)^{\\frac{1}{a}} \\sin{\\left(lode \\right)} \\sin{\\left(3 lode \\right)}}{24 J_{2}^{\\frac{5}{2}} a^{3} m_{b} \\cos{\\left(lode \\right)} \\cos^{3}{\\left(3 lode \\right)}} - \\frac{2^{\\frac{1}{a}} \\sigma_{ci} \\sigma_{ci}^{- \\frac{1}{a}} \\left(\\sqrt{J_{2}} \\cos{\\left(lode \\right)}\\right)^{\\frac{1}{a}}}{72 J_{2}^{\\frac{5}{2}} a^{3} m_{b} \\cos^{2}{\\left(3 lode \\right)}} + \\frac{2^{\\frac{1}{a}} \\sigma_{ci} \\sigma_{ci}^{- \\frac{1}{a}} \\left(\\sqrt{J_{2}} \\cos{\\left(lode \\right)}\\right)^{\\frac{1}{a}} \\sin^{2}{\\left(lode \\right)}}{72 J_{2}^{\\frac{5}{2}} a^{4} m_{b} \\cos^{2}{\\left(lode \\right)} \\cos^{2}{\\left(3 lode \\right)}}$"
      ],
      "text/plain": [
       "-2**(1/a)*sigma_ci*(sqrt(J2)*cos(lode))**(1/a)*sin(lode)**2/(24*J2**(5/2)*a*m_b*sigma_ci**(1/a)*cos(lode)**2*cos(3*lode)**2) - 2**(1/a)*sigma_ci*(sqrt(J2)*cos(lode))**(1/a)*sin(lode)*sin(3*lode)/(8*J2**(5/2)*a*m_b*sigma_ci**(1/a)*cos(lode)*cos(3*lode)**3) - 2**(1/a)*sigma_ci*(sqrt(J2)*cos(lode))**(1/a)/(24*J2**(5/2)*a*m_b*sigma_ci**(1/a)*cos(3*lode)**2) + 7*2**(1/a)*sigma_ci*(sqrt(J2)*cos(lode))**(1/a)*sin(lode)**2/(72*J2**(5/2)*a**2*m_b*sigma_ci**(1/a)*cos(lode)**2*cos(3*lode)**2) + 2**(1/a)*sigma_ci*(sqrt(J2)*cos(lode))**(1/a)*sin(lode)*sin(3*lode)/(6*J2**(5/2)*a**2*m_b*sigma_ci**(1/a)*cos(lode)*cos(3*lode)**3) + 2**(1/a)*sigma_ci*(sqrt(J2)*cos(lode))**(1/a)/(18*J2**(5/2)*a**2*m_b*sigma_ci**(1/a)*cos(3*lode)**2) - 5*2**(1/a)*sigma_ci*(sqrt(J2)*cos(lode))**(1/a)*sin(lode)**2/(72*J2**(5/2)*a**3*m_b*sigma_ci**(1/a)*cos(lode)**2*cos(3*lode)**2) - 2**(1/a)*sigma_ci*(sqrt(J2)*cos(lode))**(1/a)*sin(lode)*sin(3*lode)/(24*J2**(5/2)*a**3*m_b*sigma_ci**(1/a)*cos(lode)*cos(3*lode)**3) - 2**(1/a)*sigma_ci*(sqrt(J2)*cos(lode))**(1/a)/(72*J2**(5/2)*a**3*m_b*sigma_ci**(1/a)*cos(3*lode)**2) + 2**(1/a)*sigma_ci*(sqrt(J2)*cos(lode))**(1/a)*sin(lode)**2/(72*J2**(5/2)*a**4*m_b*sigma_ci**(1/a)*cos(lode)**2*cos(3*lode)**2)"
      ]
     },
     "metadata": {},
     "output_type": "display_data"
    }
   ],
   "source": [
    "dCx_ddJ2 = sp.diff(dCx_dJ2, J2)\n",
    "display(dCx_ddJ2)\n"
   ]
  },
  {
   "cell_type": "code",
   "execution_count": 18,
   "id": "a9811487",
   "metadata": {},
   "outputs": [
    {
     "data": {
      "text/plain": [
       "[{A: 2**(1/a)*sigma_ci*(sqrt(J2)*cos(lode))**(1/a)/(sqrt(J2)*m_b*sigma_ci**(1/a)) - B*sin(3*lode) - C*sin(3*lode)**2 - sqrt(3)*sin(lode)/3 + cos(lode)}]"
      ]
     },
     "execution_count": 18,
     "metadata": {},
     "output_type": "execute_result"
    }
   ],
   "source": [
    "from sympy import solve\n",
    "from sympy.abc import A\n",
    "import sympy as sp\n",
    "from sympy import *\n",
    "\n",
    "eq1 = F_hBOrg - F_hBMod\n",
    "\n",
    "equations = [eq1]\n",
    "solutions = solve(equations, A, dict=True)\n",
    "solutions"
   ]
  },
  {
   "cell_type": "code",
   "execution_count": 19,
   "id": "21c33118",
   "metadata": {},
   "outputs": [
    {
     "data": {
      "text/latex": [
       "$\\displaystyle \\frac{2^{\\frac{1}{a}} \\sigma_{ci} \\sigma_{ci}^{- \\frac{1}{a}} \\left(\\sqrt{J_{2}} \\cos{\\left(lode \\right)}\\right)^{\\frac{1}{a}}}{\\sqrt{J_{2}} m_{b}} - B \\sin{\\left(3 lode \\right)} - C \\sin^{2}{\\left(3 lode \\right)} - \\frac{\\sqrt{3} \\sin{\\left(lode \\right)}}{3} + \\cos{\\left(lode \\right)}$"
      ],
      "text/plain": [
       "2**(1/a)*sigma_ci*(sqrt(J2)*cos(lode))**(1/a)/(sqrt(J2)*m_b*sigma_ci**(1/a)) - B*sin(3*lode) - C*sin(3*lode)**2 - sqrt(3)*sin(lode)/3 + cos(lode)"
      ]
     },
     "metadata": {},
     "output_type": "display_data"
    }
   ],
   "source": [
    "Ax = (\n",
    "    2 ** (1 / a)\n",
    "    * sigma_ci\n",
    "    * (sqrt(J2) * cos(lode)) ** (1 / a)\n",
    "    / (sqrt(J2) * m_b * sigma_ci ** (1 / a))\n",
    "    - B * sin(3 * lode)\n",
    "    - C * sin(3 * lode) ** 2\n",
    "    - sqrt(3) * sin(lode) / 3\n",
    "    + cos(lode)\n",
    ")\n",
    "display(Ax)\n"
   ]
  },
  {
   "cell_type": "code",
   "execution_count": 20,
   "id": "8122b4c3",
   "metadata": {},
   "outputs": [
    {
     "data": {
      "text/latex": [
       "$\\displaystyle - \\frac{2^{\\frac{1}{a}} \\sigma_{ci} \\sigma_{ci}^{- \\frac{1}{a}} \\left(\\sqrt{J_{2}} \\cos{\\left(lode \\right)}\\right)^{\\frac{1}{a}}}{2 J_{2}^{\\frac{3}{2}} m_{b}} + \\frac{2^{\\frac{1}{a}} \\sigma_{ci} \\sigma_{ci}^{- \\frac{1}{a}} \\left(\\sqrt{J_{2}} \\cos{\\left(lode \\right)}\\right)^{\\frac{1}{a}}}{2 J_{2}^{\\frac{3}{2}} a m_{b}}$"
      ],
      "text/plain": [
       "-2**(1/a)*sigma_ci*(sqrt(J2)*cos(lode))**(1/a)/(2*J2**(3/2)*m_b*sigma_ci**(1/a)) + 2**(1/a)*sigma_ci*(sqrt(J2)*cos(lode))**(1/a)/(2*J2**(3/2)*a*m_b*sigma_ci**(1/a))"
      ]
     },
     "metadata": {},
     "output_type": "display_data"
    }
   ],
   "source": [
    "dA_dJ2 = sp.diff(\n",
    "    2 ** (1 / a)\n",
    "    * sigma_ci\n",
    "    * (sqrt(J2) * cos(lode)) ** (1 / a)\n",
    "    / (sqrt(J2) * m_b * sigma_ci ** (1 / a)),\n",
    "    J2,\n",
    ")\n",
    "display(dA_dJ2)"
   ]
  },
  {
   "cell_type": "code",
   "execution_count": 21,
   "id": "58184b22",
   "metadata": {},
   "outputs": [
    {
     "data": {
      "text/latex": [
       "$\\displaystyle \\frac{3 \\cdot 2^{\\frac{1}{a}} \\sigma_{ci} \\sigma_{ci}^{- \\frac{1}{a}} \\left(\\sqrt{J_{2}} \\cos{\\left(lode \\right)}\\right)^{\\frac{1}{a}}}{4 J_{2}^{\\frac{5}{2}} m_{b}} - \\frac{2^{\\frac{1}{a}} \\sigma_{ci} \\sigma_{ci}^{- \\frac{1}{a}} \\left(\\sqrt{J_{2}} \\cos{\\left(lode \\right)}\\right)^{\\frac{1}{a}}}{J_{2}^{\\frac{5}{2}} a m_{b}} + \\frac{2^{\\frac{1}{a}} \\sigma_{ci} \\sigma_{ci}^{- \\frac{1}{a}} \\left(\\sqrt{J_{2}} \\cos{\\left(lode \\right)}\\right)^{\\frac{1}{a}}}{4 J_{2}^{\\frac{5}{2}} a^{2} m_{b}}$"
      ],
      "text/plain": [
       "3*2**(1/a)*sigma_ci*(sqrt(J2)*cos(lode))**(1/a)/(4*J2**(5/2)*m_b*sigma_ci**(1/a)) - 2**(1/a)*sigma_ci*(sqrt(J2)*cos(lode))**(1/a)/(J2**(5/2)*a*m_b*sigma_ci**(1/a)) + 2**(1/a)*sigma_ci*(sqrt(J2)*cos(lode))**(1/a)/(4*J2**(5/2)*a**2*m_b*sigma_ci**(1/a))"
      ]
     },
     "metadata": {},
     "output_type": "display_data"
    }
   ],
   "source": [
    "dA_ddJ2 = sp.diff(dA_dJ2, J2)\n",
    "display(dA_ddJ2)"
   ]
  },
  {
   "cell_type": "code",
   "execution_count": 22,
   "id": "6a69ac13",
   "metadata": {},
   "outputs": [
    {
     "data": {
      "text/latex": [
       "$\\displaystyle \\frac{m_{b} \\sigma_{ci}^{-1 + \\frac{1}{a}}}{2 \\sqrt{J_{2}}}$"
      ],
      "text/plain": [
       "m_b*sigma_ci**(-1 + 1/a)/(2*sqrt(J2))"
      ]
     },
     "execution_count": 22,
     "metadata": {},
     "output_type": "execute_result"
    }
   ],
   "source": [
    "sp.diff(m_b * sigma_ci ** (1 / a - 1) * sqrt(J2), J2)"
   ]
  },
  {
   "cell_type": "code",
   "execution_count": 23,
   "id": "9b736ff5",
   "metadata": {},
   "outputs": [
    {
     "data": {
      "text/latex": [
       "$\\displaystyle - \\frac{m_{b} \\sigma_{ci}^{-1 + \\frac{1}{a}}}{4 J_{2}^{\\frac{3}{2}}}$"
      ],
      "text/plain": [
       "-m_b*sigma_ci**(-1 + 1/a)/(4*J2**(3/2))"
      ]
     },
     "execution_count": 23,
     "metadata": {},
     "output_type": "execute_result"
    }
   ],
   "source": [
    "sp.diff(sp.diff(m_b * sigma_ci ** (1 / a - 1) * sqrt(J2), J2), J2)"
   ]
  },
  {
   "cell_type": "code",
   "execution_count": 10,
   "id": "ab554f83",
   "metadata": {},
   "outputs": [
    {
     "data": {
      "text/latex": [
       "$\\displaystyle \\frac{\\sigma_{ci}^{1 - \\frac{1}{a}} \\left(- m_{b} \\sigma_{ci}^{-1 + \\frac{1}{a}} \\sqrt{J_{2} + \\epsilon^{2}} \\left(- \\frac{\\sqrt{3} \\sin{\\left(\\theta \\right)}}{3} + \\cos{\\left(\\theta \\right)}\\right) + s \\sigma_{ci}^{\\frac{1}{a}} - \\left(2.0 \\sqrt{J_{2} + \\epsilon^{2}} \\cos{\\left(\\theta \\right)}\\right)^{\\frac{1}{a}}\\right)}{m_{b}}$"
      ],
      "text/plain": [
       "sigma_ci**(1 - 1/a)*(-m_b*sigma_ci**(-1 + 1/a)*sqrt(J2 + epsilon**2)*(-sqrt(3)*sin(theta)/3 + cos(theta)) + s*sigma_ci**(1/a) - (2.0*sqrt(J2 + epsilon**2)*cos(theta))**(1/a))/m_b"
      ]
     },
     "metadata": {},
     "output_type": "display_data"
    }
   ],
   "source": [
    "# Pressure\n",
    "p = -((2. * sp.sqrt(J2+epsilon**2)*cos(theta))**(1/a)+m_b*sp.sqrt(J2+epsilon**2)*sigma_ci**(1/a-1)*(cos(theta)-sin(theta)/sqrt(3)) -s * sigma_ci**(1/a))/(m_b*sigma_ci**(1/a-1))\n",
    "display(p)\n"
   ]
  }
 ],
 "metadata": {
  "kernelspec": {
   "display_name": "Python 3 (ipykernel)",
   "language": "python",
   "name": "python3"
  },
  "language_info": {
   "codemirror_mode": {
    "name": "ipython",
    "version": 3
   },
   "file_extension": ".py",
   "mimetype": "text/x-python",
   "name": "python",
   "nbconvert_exporter": "python",
   "pygments_lexer": "ipython3",
   "version": "3.10.12"
  }
 },
 "nbformat": 4,
 "nbformat_minor": 5
}
